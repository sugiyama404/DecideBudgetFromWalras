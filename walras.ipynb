{
  "nbformat": 4,
  "nbformat_minor": 0,
  "metadata": {
    "colab": {
      "name": "walras.ipynb",
      "provenance": [],
      "collapsed_sections": [],
      "authorship_tag": "ABX9TyM/Y3uQH+N03JLjNamXPExB",
      "include_colab_link": true
    },
    "kernelspec": {
      "name": "python3",
      "display_name": "Python 3"
    },
    "language_info": {
      "name": "python"
    }
  },
  "cells": [
    {
      "cell_type": "markdown",
      "metadata": {
        "id": "view-in-github",
        "colab_type": "text"
      },
      "source": [
        "<a href=\"https://colab.research.google.com/github/sugiyama404/DecideBudgetFromWalras/blob/main/walras.ipynb\" target=\"_parent\"><img src=\"https://colab.research.google.com/assets/colab-badge.svg\" alt=\"Open In Colab\"/></a>"
      ]
    },
    {
      "cell_type": "code",
      "metadata": {
        "id": "gbFfr3u8Wqz4",
        "colab": {
          "base_uri": "https://localhost:8080/"
        },
        "outputId": "27bdf379-53c4-42d2-9567-5773375e0b5a"
      },
      "source": [
        "import numpy as np\n",
        "import pandas as pd\n",
        "from google.colab import drive\n",
        "import time\n",
        "\n",
        "drive.mount('/content/drive/')\n",
        "nov_dir = 'Colab Notebooks/dataset/walras_equation/'\n",
        "bd_path = '/content/drive/My Drive/' + nov_dir + 'BASIC_DATE.csv'\n",
        "ron_path = '/content/drive/My Drive/' + nov_dir + 'REAL_OR_NOMINAL.csv'"
      ],
      "execution_count": 1,
      "outputs": [
        {
          "output_type": "stream",
          "text": [
            "Drive already mounted at /content/drive/; to attempt to forcibly remount, call drive.mount(\"/content/drive/\", force_remount=True).\n"
          ],
          "name": "stdout"
        }
      ]
    },
    {
      "cell_type": "code",
      "metadata": {
        "colab": {
          "base_uri": "https://localhost:8080/",
          "height": 142
        },
        "id": "VVA7dNcJ9tuU",
        "outputId": "99f3e34d-b304-4cd6-9297-fca1525204dc"
      },
      "source": [
        "df = pd.read_csv(bd_path)\n",
        "df"
      ],
      "execution_count": 2,
      "outputs": [
        {
          "output_type": "execute_result",
          "data": {
            "text/html": [
              "<div>\n",
              "<style scoped>\n",
              "    .dataframe tbody tr th:only-of-type {\n",
              "        vertical-align: middle;\n",
              "    }\n",
              "\n",
              "    .dataframe tbody tr th {\n",
              "        vertical-align: top;\n",
              "    }\n",
              "\n",
              "    .dataframe thead th {\n",
              "        text-align: right;\n",
              "    }\n",
              "</style>\n",
              "<table border=\"1\" class=\"dataframe\">\n",
              "  <thead>\n",
              "    <tr style=\"text-align: right;\">\n",
              "      <th></th>\n",
              "      <th>name</th>\n",
              "      <th>value</th>\n",
              "    </tr>\n",
              "  </thead>\n",
              "  <tbody>\n",
              "    <tr>\n",
              "      <th>0</th>\n",
              "      <td>inflation_rate_2020</td>\n",
              "      <td>-0.02</td>\n",
              "    </tr>\n",
              "    <tr>\n",
              "      <th>1</th>\n",
              "      <td>multiplier_public_investment</td>\n",
              "      <td>1.14</td>\n",
              "    </tr>\n",
              "    <tr>\n",
              "      <th>2</th>\n",
              "      <td>multiplier_tax_reduction</td>\n",
              "      <td>0.30</td>\n",
              "    </tr>\n",
              "  </tbody>\n",
              "</table>\n",
              "</div>"
            ],
            "text/plain": [
              "                           name  value\n",
              "0           inflation_rate_2020  -0.02\n",
              "1  multiplier_public_investment   1.14\n",
              "2      multiplier_tax_reduction   0.30"
            ]
          },
          "metadata": {
            "tags": []
          },
          "execution_count": 2
        }
      ]
    },
    {
      "cell_type": "code",
      "metadata": {
        "colab": {
          "base_uri": "https://localhost:8080/",
          "height": 173
        },
        "id": "VpYAELm6_yzY",
        "outputId": "17f75048-6e23-4854-963f-3fa10c556cde"
      },
      "source": [
        "df2 = pd.read_csv(ron_path)\n",
        "df2"
      ],
      "execution_count": 3,
      "outputs": [
        {
          "output_type": "execute_result",
          "data": {
            "text/html": [
              "<div>\n",
              "<style scoped>\n",
              "    .dataframe tbody tr th:only-of-type {\n",
              "        vertical-align: middle;\n",
              "    }\n",
              "\n",
              "    .dataframe tbody tr th {\n",
              "        vertical-align: top;\n",
              "    }\n",
              "\n",
              "    .dataframe thead th {\n",
              "        text-align: right;\n",
              "    }\n",
              "</style>\n",
              "<table border=\"1\" class=\"dataframe\">\n",
              "  <thead>\n",
              "    <tr style=\"text-align: right;\">\n",
              "      <th></th>\n",
              "      <th>name</th>\n",
              "      <th>REAL</th>\n",
              "    </tr>\n",
              "  </thead>\n",
              "  <tbody>\n",
              "    <tr>\n",
              "      <th>0</th>\n",
              "      <td>GDP</td>\n",
              "      <td>535.700</td>\n",
              "    </tr>\n",
              "    <tr>\n",
              "      <th>1</th>\n",
              "      <td>unemployment_rate</td>\n",
              "      <td>0.025</td>\n",
              "    </tr>\n",
              "    <tr>\n",
              "      <th>2</th>\n",
              "      <td>completely_unemployed</td>\n",
              "      <td>1700000.000</td>\n",
              "    </tr>\n",
              "    <tr>\n",
              "      <th>3</th>\n",
              "      <td>wage</td>\n",
              "      <td>5475000.000</td>\n",
              "    </tr>\n",
              "  </tbody>\n",
              "</table>\n",
              "</div>"
            ],
            "text/plain": [
              "                    name         REAL\n",
              "0                    GDP      535.700\n",
              "1      unemployment_rate        0.025\n",
              "2  completely_unemployed  1700000.000\n",
              "3                   wage  5475000.000"
            ]
          },
          "metadata": {
            "tags": []
          },
          "execution_count": 3
        }
      ]
    },
    {
      "cell_type": "code",
      "metadata": {
        "colab": {
          "base_uri": "https://localhost:8080/"
        },
        "id": "6kbf9VjdAW_9",
        "outputId": "d143e0f7-c339-4aea-dcf5-bcd4f11dd9a6"
      },
      "source": [
        "GDP=23.8*1.14\n",
        "print('GDP  =' + str(round(GDP,2)))\n",
        "now_GDP=df2['REAL'][0]\n",
        "print(now_GDP)\n",
        "for_GDP=now_GDP+GDP\n",
        "print('for_GDP  =' + str(for_GDP))\n",
        "all_wage = df2['REAL'][2] * df2['REAL'][3]*0.000000000001\n",
        "print('all_wage  =' + str(all_wage))\n",
        "for_mometqary_base=(50+all_wage+GDP)/2\n",
        "print('for_mometqary_base  ='+str(round(for_mometqary_base,2)))"
      ],
      "execution_count": 4,
      "outputs": [
        {
          "output_type": "stream",
          "text": [
            "GDP  =27.13\n",
            "535.7\n",
            "for_GDP  =562.832\n",
            "all_wage  =9.3075\n",
            "for_mometqary_base  =43.22\n"
          ],
          "name": "stdout"
        }
      ]
    }
  ]
}