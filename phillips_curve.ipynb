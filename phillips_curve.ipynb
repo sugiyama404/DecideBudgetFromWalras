{
  "nbformat": 4,
  "nbformat_minor": 0,
  "metadata": {
    "colab": {
      "name": "phillips_curve.ipynb",
      "private_outputs": true,
      "provenance": [],
      "collapsed_sections": [],
      "authorship_tag": "ABX9TyN/D4HAPq3erdtfCnUhAuPU",
      "include_colab_link": true
    },
    "kernelspec": {
      "name": "python3",
      "display_name": "Python 3"
    },
    "language_info": {
      "name": "python"
    },
    "accelerator": "GPU"
  },
  "cells": [
    {
      "cell_type": "markdown",
      "metadata": {
        "id": "view-in-github",
        "colab_type": "text"
      },
      "source": [
        "<a href=\"https://colab.research.google.com/github/sugiyama404/DecideBudgetFromWalras/blob/main/phillips_curve.ipynb\" target=\"_parent\"><img src=\"https://colab.research.google.com/assets/colab-badge.svg\" alt=\"Open In Colab\"/></a>"
      ]
    },
    {
      "cell_type": "code",
      "metadata": {
        "id": "84x_Ollj_nMl"
      },
      "source": [
        "import numpy as np\n",
        "import pandas as pd\n",
        "import matplotlib.pyplot as plt\n",
        "from google.colab import drive\n",
        "import time\n",
        "\n",
        "from sklearn.linear_model import LinearRegression"
      ],
      "execution_count": null,
      "outputs": []
    },
    {
      "cell_type": "code",
      "metadata": {
        "id": "JAk9LQM3_zRb"
      },
      "source": [
        "drive.mount('/content/drive/')\n",
        "nov_dir = 'Colab Notebooks/dataset/phillips_curve/'\n",
        "work_dir = 'Colab Notebooks/workspace/export/'\n",
        "uer_path = '/content/drive/My Drive/' + nov_dir + 'UnemploymentRate.csv'\n",
        "cpi_path = '/content/drive/My Drive/' + nov_dir + 'corecoreCPI.csv'\n",
        "save_path = '/content/drive/My Drive/' + work_dir\n",
        "\n",
        "\n",
        "df_uer = pd.read_csv(uer_path, index_col='DATE', parse_dates=True)\n",
        "df_cpi = pd.read_csv(cpi_path, index_col='DATE', parse_dates=True)\n",
        "df_cpi = df_cpi[df_cpi.index != '2021-04-01']\n",
        "\n",
        "print(df_uer.shape)\n",
        "print(df_cpi.shape)\n",
        "print(df_uer.head())\n",
        "print(df_cpi.head())"
      ],
      "execution_count": null,
      "outputs": []
    },
    {
      "cell_type": "markdown",
      "metadata": {
        "id": "gqnwz1n8NABi"
      },
      "source": [
        "# プロット"
      ]
    },
    {
      "cell_type": "code",
      "metadata": {
        "id": "KZ__3x6YLqPJ"
      },
      "source": [
        "plt.scatter(df_uer['UnemploymentRate'], df_cpi['corecoreCPI'])\n",
        "\n",
        "plt.title('Unemployment Rate & corecoreCPI')\n",
        "plt.xlabel('Unemployment Rate(%)')\n",
        "plt.ylabel('corecoreCPI(%)')\n",
        "plt.grid()\n",
        "\n",
        "plt.savefig(save_path+'PhillipsCurvePlot.png')\n",
        "\n",
        "plt.show()"
      ],
      "execution_count": null,
      "outputs": []
    },
    {
      "cell_type": "markdown",
      "metadata": {
        "id": "i3qq6bA5NFaV"
      },
      "source": [
        "# 学習"
      ]
    },
    {
      "cell_type": "code",
      "metadata": {
        "id": "1JJB5gnTMoiz"
      },
      "source": [
        "model = LinearRegression()\n",
        "\n",
        "X = df_uer[['UnemploymentRate']].values\n",
        "Y = df_cpi['corecoreCPI'].values\n",
        "\n",
        "model.fit(X, Y)\n",
        "\n",
        "a=model.intercept_\n",
        "b=model.coef_\n",
        "r2=model.score(X,Y)\n",
        "\n",
        "p_y=a/X+b\n",
        "\n",
        "plt.scatter(X, Y)\n",
        "plt.plot(X, p_y, color='red', label=\"Phillips Curve\")\n",
        "plt.title('Phillips Curve')\n",
        "\n",
        "plt.xlabel('Unemployment Rate(%)')\n",
        "plt.ylabel('corecoreCPI(%)')\n",
        "plt.grid()\n",
        "\n",
        "plt.text(3, 8, 'y = %s x %s' % (round(a,3),round(b[0],3)))\n",
        "plt.text(3, 6, 'R^2 = %s' % round(r2,3))\n",
        "\n",
        "# 凡例の表示\n",
        "plt.legend()\n",
        "\n",
        "plt.savefig(save_path+'PhillipsCurve.png')\n",
        "plt.show()"
      ],
      "execution_count": null,
      "outputs": []
    }
  ]
}