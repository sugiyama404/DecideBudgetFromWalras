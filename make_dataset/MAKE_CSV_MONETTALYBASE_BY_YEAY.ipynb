{
  "nbformat": 4,
  "nbformat_minor": 0,
  "metadata": {
    "colab": {
      "name": "MAKE_CSV_MONETTALYBASE_BY_YEAY.ipynb",
      "provenance": [],
      "collapsed_sections": [],
      "authorship_tag": "ABX9TyMPLp8Rzi2ZlrqXFPZos/La",
      "include_colab_link": true
    },
    "kernelspec": {
      "name": "python3",
      "display_name": "Python 3"
    },
    "language_info": {
      "name": "python"
    }
  },
  "cells": [
    {
      "cell_type": "markdown",
      "metadata": {
        "id": "view-in-github",
        "colab_type": "text"
      },
      "source": [
        "<a href=\"https://colab.research.google.com/github/sugiyama404/DecideBudgetFromWalras/blob/main/make_dataset/MAKE_CSV_MONETTALYBASE_BY_YEAY.ipynb\" target=\"_parent\"><img src=\"https://colab.research.google.com/assets/colab-badge.svg\" alt=\"Open In Colab\"/></a>"
      ]
    },
    {
      "cell_type": "code",
      "metadata": {
        "id": "rPvfKgkNym00"
      },
      "source": [
        "import numpy as np\n",
        "import pandas as pd\n",
        "import matplotlib.pyplot as plt\n",
        "from google.colab import drive\n",
        "import time"
      ],
      "execution_count": 1,
      "outputs": []
    },
    {
      "cell_type": "code",
      "metadata": {
        "colab": {
          "base_uri": "https://localhost:8080/"
        },
        "id": "07C1NpU0yGeM",
        "outputId": "e12b1826-e506-4392-f22d-5b8751ec580a"
      },
      "source": [
        "drive.mount('/content/drive/')\n",
        "nov_dir = 'Colab Notebooks/dataset/walras_equation/'\n",
        "mbase_path = '/content/drive/My Drive/' + nov_dir + 'mblong.xlsx'\n",
        "save_path = '/content/drive/My Drive/' + nov_dir + 'MONETTALYBASE_BY_YEAR.csv'\n",
        "save_path2 = '/content/drive/My Drive/' + nov_dir + 'DATE_TABLE\n",
        ".csv'\n",
        "excel_sheet_name='平残（Average amounts outstanding）'"
      ],
      "execution_count": 2,
      "outputs": [
        {
          "output_type": "stream",
          "text": [
            "Drive already mounted at /content/drive/; to attempt to forcibly remount, call drive.mount(\"/content/drive/\", force_remount=True).\n"
          ],
          "name": "stdout"
        }
      ]
    },
    {
      "cell_type": "markdown",
      "metadata": {
        "id": "nZP78X6C71ea"
      },
      "source": [
        "# EXCELデータの読み込み加工"
      ]
    },
    {
      "cell_type": "code",
      "metadata": {
        "colab": {
          "base_uri": "https://localhost:8080/",
          "height": 235
        },
        "id": "mgAmyIFo0P3L",
        "outputId": "724523df-428e-4155-a72a-1aed7b0182c1"
      },
      "source": [
        "df = pd.read_excel(mbase_path, sheet_name=excel_sheet_name)\n",
        "df = df.drop(range(6))\n",
        "df = pd.concat([df['Unnamed: 1'], df['Unnamed: 7']], axis=1)\n",
        "df = df.rename(columns={'Unnamed: 1': 'DATE', 'Unnamed: 7': 'MONETTALYBASE'})\n",
        "df['DATE'] = pd.to_datetime(df['DATE'], format='%Y%m%d')\n",
        "df = df.reset_index(drop=True)\n",
        "drop_index = df.index[(df.index >= 612)]\n",
        "df = df.drop(drop_index)\n",
        "df = df.set_index('DATE')\n",
        "df.head()"
      ],
      "execution_count": 3,
      "outputs": [
        {
          "output_type": "execute_result",
          "data": {
            "text/html": [
              "<div>\n",
              "<style scoped>\n",
              "    .dataframe tbody tr th:only-of-type {\n",
              "        vertical-align: middle;\n",
              "    }\n",
              "\n",
              "    .dataframe tbody tr th {\n",
              "        vertical-align: top;\n",
              "    }\n",
              "\n",
              "    .dataframe thead th {\n",
              "        text-align: right;\n",
              "    }\n",
              "</style>\n",
              "<table border=\"1\" class=\"dataframe\">\n",
              "  <thead>\n",
              "    <tr style=\"text-align: right;\">\n",
              "      <th></th>\n",
              "      <th>MONETTALYBASE</th>\n",
              "    </tr>\n",
              "    <tr>\n",
              "      <th>DATE</th>\n",
              "      <th></th>\n",
              "    </tr>\n",
              "  </thead>\n",
              "  <tbody>\n",
              "    <tr>\n",
              "      <th>1970-01-31</th>\n",
              "      <td>43324</td>\n",
              "    </tr>\n",
              "    <tr>\n",
              "      <th>1970-02-28</th>\n",
              "      <td>43902</td>\n",
              "    </tr>\n",
              "    <tr>\n",
              "      <th>1970-03-31</th>\n",
              "      <td>44694</td>\n",
              "    </tr>\n",
              "    <tr>\n",
              "      <th>1970-04-30</th>\n",
              "      <td>45126</td>\n",
              "    </tr>\n",
              "    <tr>\n",
              "      <th>1970-05-31</th>\n",
              "      <td>45574</td>\n",
              "    </tr>\n",
              "  </tbody>\n",
              "</table>\n",
              "</div>"
            ],
            "text/plain": [
              "           MONETTALYBASE\n",
              "DATE                    \n",
              "1970-01-31         43324\n",
              "1970-02-28         43902\n",
              "1970-03-31         44694\n",
              "1970-04-30         45126\n",
              "1970-05-31         45574"
            ]
          },
          "metadata": {
            "tags": []
          },
          "execution_count": 3
        }
      ]
    },
    {
      "cell_type": "markdown",
      "metadata": {
        "id": "OoCr3S9yHvRt"
      },
      "source": [
        "# 年の増加率を算出"
      ]
    },
    {
      "cell_type": "code",
      "metadata": {
        "id": "-Y3MF7Gu7zKz"
      },
      "source": [
        "df2 = df[(df.index.month == 1)]\n",
        "df2.index = df2.index.year\n",
        "df2 = df2.rename(columns={'MONETTALYBASE':'JAN'})\n",
        "\n",
        "df3 = df[(df.index.month == 12)]\n",
        "df3.index = df3.index.year\n",
        "df3 = df3.rename(columns={'MONETTALYBASE':'DEC'})\n",
        "\n",
        "dfy = pd.concat([df2['JAN'], df3['DEC']], axis=1)\n",
        "dfy['MONETTALYBASE'] = dfy['DEC'] - dfy['JAN']\n",
        "dfy = dfy.drop(['DEC', 'JAN'], axis=1)\n",
        "dfy.tail()\n",
        "dfy.to_csv(save_path, sep=\",\")"
      ],
      "execution_count": 4,
      "outputs": []
    },
    {
      "cell_type": "markdown",
      "metadata": {
        "id": "GQsPvJGZLCnf"
      },
      "source": [
        "# その他のデータセット作成"
      ]
    },
    {
      "cell_type": "code",
      "metadata": {
        "colab": {
          "base_uri": "https://localhost:8080/"
        },
        "id": "LmUo-Ef-LBup",
        "outputId": "34fc8e4a-9a3f-4635-e711-a23f30e05676"
      },
      "source": [
        "df2 = dfy[(dfy.index == 2020)].values\n",
        "mb = df2[0][0]\n",
        "mb"
      ],
      "execution_count": 11,
      "outputs": [
        {
          "output_type": "execute_result",
          "data": {
            "text/plain": [
              "946152"
            ]
          },
          "metadata": {
            "tags": []
          },
          "execution_count": 11
        }
      ]
    }
  ]
}