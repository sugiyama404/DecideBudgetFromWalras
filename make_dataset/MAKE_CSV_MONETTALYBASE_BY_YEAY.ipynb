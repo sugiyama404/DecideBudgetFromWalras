{
  "nbformat": 4,
  "nbformat_minor": 0,
  "metadata": {
    "colab": {
      "name": "MAKE_CSV_MONETTALYBASE_BY_YEAY.ipynb",
      "provenance": [],
      "collapsed_sections": [],
      "authorship_tag": "ABX9TyMcFvXoeB25T+jUPNsEX3zy",
      "include_colab_link": true
    },
    "kernelspec": {
      "name": "python3",
      "display_name": "Python 3"
    },
    "language_info": {
      "name": "python"
    }
  },
  "cells": [
    {
      "cell_type": "markdown",
      "metadata": {
        "id": "view-in-github",
        "colab_type": "text"
      },
      "source": [
        "<a href=\"https://colab.research.google.com/github/sugiyama404/DecideBudgetFromWalras/blob/main/make_dataset/MAKE_CSV_MONETTALYBASE_BY_YEAY.ipynb\" target=\"_parent\"><img src=\"https://colab.research.google.com/assets/colab-badge.svg\" alt=\"Open In Colab\"/></a>"
      ]
    },
    {
      "cell_type": "code",
      "metadata": {
        "id": "rPvfKgkNym00"
      },
      "source": [
        "import numpy as np\n",
        "import pandas as pd\n",
        "import matplotlib.pyplot as plt\n",
        "from google.colab import drive\n",
        "import time"
      ],
      "execution_count": 1,
      "outputs": []
    },
    {
      "cell_type": "code",
      "metadata": {
        "colab": {
          "base_uri": "https://localhost:8080/"
        },
        "id": "07C1NpU0yGeM",
        "outputId": "86258784-6400-43bf-bc10-7f78b3e6cddd"
      },
      "source": [
        "drive.mount('/content/drive/')\n",
        "nov_dir = 'Colab Notebooks/dataset/walras_equation/'\n",
        "exp_dir = 'Colab Notebooks/workspace/export/'\n",
        "mbase_path = '/content/drive/My Drive/' + nov_dir + 'mblong.xlsx'\n",
        "save_path = '/content/drive/My Drive/' + nov_dir + 'MONETTALYBASE_BY_YEAR.csv'\n",
        "save_path2 = '/content/drive/My Drive/' + nov_dir + 'BASIC_DATE.csv'\n",
        "save_path3 = '/content/drive/My Drive/' + nov_dir + 'REAL_OR_NOMINAL.csv'\n",
        "save_path4 = '/content/drive/My Drive/' + exp_dir + 'Average_Rate_Of_Change.png'\n",
        "excel_sheet_name='平残（Average amounts outstanding）'"
      ],
      "execution_count": 2,
      "outputs": [
        {
          "output_type": "stream",
          "text": [
            "Drive already mounted at /content/drive/; to attempt to forcibly remount, call drive.mount(\"/content/drive/\", force_remount=True).\n"
          ],
          "name": "stdout"
        }
      ]
    },
    {
      "cell_type": "markdown",
      "metadata": {
        "id": "nZP78X6C71ea"
      },
      "source": [
        "# EXCELデータの読み込み加工"
      ]
    },
    {
      "cell_type": "code",
      "metadata": {
        "colab": {
          "base_uri": "https://localhost:8080/",
          "height": 235
        },
        "id": "mgAmyIFo0P3L",
        "outputId": "cae435fb-3600-4fe7-a054-c5bd94f065db"
      },
      "source": [
        "df = pd.read_excel(mbase_path, sheet_name=excel_sheet_name)\n",
        "df = df.drop(range(6))\n",
        "df = pd.concat([df['Unnamed: 1'], df['Unnamed: 7']], axis=1)\n",
        "df = df.rename(columns={'Unnamed: 1': 'DATE', 'Unnamed: 7': 'MONETTALYBASE'})\n",
        "df['DATE'] = pd.to_datetime(df['DATE'], format='%Y%m%d')\n",
        "df = df.reset_index(drop=True)\n",
        "drop_index = df.index[(df.index >= 612)]\n",
        "df = df.drop(drop_index)\n",
        "df = df.set_index('DATE')\n",
        "df.head()"
      ],
      "execution_count": 3,
      "outputs": [
        {
          "output_type": "execute_result",
          "data": {
            "text/html": [
              "<div>\n",
              "<style scoped>\n",
              "    .dataframe tbody tr th:only-of-type {\n",
              "        vertical-align: middle;\n",
              "    }\n",
              "\n",
              "    .dataframe tbody tr th {\n",
              "        vertical-align: top;\n",
              "    }\n",
              "\n",
              "    .dataframe thead th {\n",
              "        text-align: right;\n",
              "    }\n",
              "</style>\n",
              "<table border=\"1\" class=\"dataframe\">\n",
              "  <thead>\n",
              "    <tr style=\"text-align: right;\">\n",
              "      <th></th>\n",
              "      <th>MONETTALYBASE</th>\n",
              "    </tr>\n",
              "    <tr>\n",
              "      <th>DATE</th>\n",
              "      <th></th>\n",
              "    </tr>\n",
              "  </thead>\n",
              "  <tbody>\n",
              "    <tr>\n",
              "      <th>1970-01-31</th>\n",
              "      <td>43324</td>\n",
              "    </tr>\n",
              "    <tr>\n",
              "      <th>1970-02-28</th>\n",
              "      <td>43902</td>\n",
              "    </tr>\n",
              "    <tr>\n",
              "      <th>1970-03-31</th>\n",
              "      <td>44694</td>\n",
              "    </tr>\n",
              "    <tr>\n",
              "      <th>1970-04-30</th>\n",
              "      <td>45126</td>\n",
              "    </tr>\n",
              "    <tr>\n",
              "      <th>1970-05-31</th>\n",
              "      <td>45574</td>\n",
              "    </tr>\n",
              "  </tbody>\n",
              "</table>\n",
              "</div>"
            ],
            "text/plain": [
              "           MONETTALYBASE\n",
              "DATE                    \n",
              "1970-01-31         43324\n",
              "1970-02-28         43902\n",
              "1970-03-31         44694\n",
              "1970-04-30         45126\n",
              "1970-05-31         45574"
            ]
          },
          "metadata": {
            "tags": []
          },
          "execution_count": 3
        }
      ]
    },
    {
      "cell_type": "markdown",
      "metadata": {
        "id": "OoCr3S9yHvRt"
      },
      "source": [
        "# 年の増加率を算出"
      ]
    },
    {
      "cell_type": "code",
      "metadata": {
        "id": "-Y3MF7Gu7zKz",
        "colab": {
          "base_uri": "https://localhost:8080/",
          "height": 235
        },
        "outputId": "f119091f-6445-49f9-8ef9-b62b6e5f9803"
      },
      "source": [
        "df2 = df[(df.index.month == 1)]\n",
        "df2.index = df2.index.year\n",
        "df2 = df2.rename(columns={'MONETTALYBASE':'JAN'})\n",
        "\n",
        "df3 = df[(df.index.month == 12)]\n",
        "df3.index = df3.index.year\n",
        "df3 = df3.rename(columns={'MONETTALYBASE':'DEC'})\n",
        "\n",
        "dfy = pd.concat([df2['JAN'], df3['DEC']], axis=1)\n",
        "dfy['MONETTALYBASE'] = dfy['DEC'] - dfy['JAN']\n",
        "dfy = dfy.drop(['DEC', 'JAN'], axis=1)\n",
        "dfy.to_csv(save_path, sep=\",\")\n",
        "dfy.tail()"
      ],
      "execution_count": 4,
      "outputs": [
        {
          "output_type": "execute_result",
          "data": {
            "text/html": [
              "<div>\n",
              "<style scoped>\n",
              "    .dataframe tbody tr th:only-of-type {\n",
              "        vertical-align: middle;\n",
              "    }\n",
              "\n",
              "    .dataframe tbody tr th {\n",
              "        vertical-align: top;\n",
              "    }\n",
              "\n",
              "    .dataframe thead th {\n",
              "        text-align: right;\n",
              "    }\n",
              "</style>\n",
              "<table border=\"1\" class=\"dataframe\">\n",
              "  <thead>\n",
              "    <tr style=\"text-align: right;\">\n",
              "      <th></th>\n",
              "      <th>MONETTALYBASE</th>\n",
              "    </tr>\n",
              "    <tr>\n",
              "      <th>DATE</th>\n",
              "      <th></th>\n",
              "    </tr>\n",
              "  </thead>\n",
              "  <tbody>\n",
              "    <tr>\n",
              "      <th>2016</th>\n",
              "      <td>731217</td>\n",
              "    </tr>\n",
              "    <tr>\n",
              "      <th>2017</th>\n",
              "      <td>411887</td>\n",
              "    </tr>\n",
              "    <tr>\n",
              "      <th>2018</th>\n",
              "      <td>217029</td>\n",
              "    </tr>\n",
              "    <tr>\n",
              "      <th>2019</th>\n",
              "      <td>148531</td>\n",
              "    </tr>\n",
              "    <tr>\n",
              "      <th>2020</th>\n",
              "      <td>946152</td>\n",
              "    </tr>\n",
              "  </tbody>\n",
              "</table>\n",
              "</div>"
            ],
            "text/plain": [
              "     MONETTALYBASE\n",
              "DATE              \n",
              "2016        731217\n",
              "2017        411887\n",
              "2018        217029\n",
              "2019        148531\n",
              "2020        946152"
            ]
          },
          "metadata": {
            "tags": []
          },
          "execution_count": 4
        }
      ]
    },
    {
      "cell_type": "code",
      "metadata": {
        "colab": {
          "base_uri": "https://localhost:8080/",
          "height": 295
        },
        "id": "RIaAOqqOFHmj",
        "outputId": "aa67d957-0b6e-4369-bc08-b8bba186cba5"
      },
      "source": [
        "fig = plt.figure()\n",
        "\n",
        "plt.plot(dfy.index,dfy['MONETTALYBASE'], label=\"Plot of Years vs Average rate of change\")\n",
        "\n",
        "plt.title('Plot of Days vs MoneyMultiplier')\n",
        "plt.ylabel('Average rate of change [-]')\n",
        "plt.xlabel('Years [Years]')\n",
        "plt.legend()\n",
        "\n",
        "fig.savefig(save_path4)\n",
        "plt.show()"
      ],
      "execution_count": 5,
      "outputs": [
        {
          "output_type": "display_data",
          "data": {
            "image/png": "[encoded data removed]",
            "text/plain": [
              "<Figure size 432x288 with 1 Axes>"
            ]
          },
          "metadata": {
            "tags": [],
            "needs_background": "light"
          }
        }
      ]
    },
    {
      "cell_type": "markdown",
      "metadata": {
        "id": "GQsPvJGZLCnf"
      },
      "source": [
        "# その他のデータセット作成"
      ]
    },
    {
      "cell_type": "code",
      "metadata": {
        "colab": {
          "base_uri": "https://localhost:8080/",
          "height": 173
        },
        "id": "BlhvLF-6V1eh",
        "outputId": "306049fd-d227-43d0-d334-ce18523a8762"
      },
      "source": [
        "data = {\n",
        "  'name': ['inflation_rate','multiplier_public_investment','multiplier_tax_reduction'],\n",
        "  'value': [-0.02,1.14,0.3],\n",
        "}\n",
        "\n",
        "df_basic = pd.DataFrame(data = data)\n",
        "df_basic = df_basic.set_index('name', drop=False)\n",
        "df_basic = df_basic.drop(['name'], axis=1)\n",
        "df_basic.to_csv(save_path2, sep=\",\")\n",
        "df_basic"
      ],
      "execution_count": 6,
      "outputs": [
        {
          "output_type": "execute_result",
          "data": {
            "text/html": [
              "<div>\n",
              "<style scoped>\n",
              "    .dataframe tbody tr th:only-of-type {\n",
              "        vertical-align: middle;\n",
              "    }\n",
              "\n",
              "    .dataframe tbody tr th {\n",
              "        vertical-align: top;\n",
              "    }\n",
              "\n",
              "    .dataframe thead th {\n",
              "        text-align: right;\n",
              "    }\n",
              "</style>\n",
              "<table border=\"1\" class=\"dataframe\">\n",
              "  <thead>\n",
              "    <tr style=\"text-align: right;\">\n",
              "      <th></th>\n",
              "      <th>value</th>\n",
              "    </tr>\n",
              "    <tr>\n",
              "      <th>name</th>\n",
              "      <th></th>\n",
              "    </tr>\n",
              "  </thead>\n",
              "  <tbody>\n",
              "    <tr>\n",
              "      <th>inflation_rate</th>\n",
              "      <td>-0.02</td>\n",
              "    </tr>\n",
              "    <tr>\n",
              "      <th>multiplier_public_investment</th>\n",
              "      <td>1.14</td>\n",
              "    </tr>\n",
              "    <tr>\n",
              "      <th>multiplier_tax_reduction</th>\n",
              "      <td>0.30</td>\n",
              "    </tr>\n",
              "  </tbody>\n",
              "</table>\n",
              "</div>"
            ],
            "text/plain": [
              "                              value\n",
              "name                               \n",
              "inflation_rate                -0.02\n",
              "multiplier_public_investment   1.14\n",
              "multiplier_tax_reduction       0.30"
            ]
          },
          "metadata": {
            "tags": []
          },
          "execution_count": 6
        }
      ]
    },
    {
      "cell_type": "code",
      "metadata": {
        "colab": {
          "base_uri": "https://localhost:8080/",
          "height": 204
        },
        "id": "LmUo-Ef-LBup",
        "outputId": "0c6e67b0-4603-41b2-f333-8e90445e3a35"
      },
      "source": [
        "df2 = dfy[(dfy.index == 2020)].values\n",
        "mb = df2[0][0]\n",
        "mb\n",
        "\n",
        "data = {\n",
        "  'name': ['GDP','unemployment_rate','completely_unemployed','wage'],\n",
        "  'REAL': [535.7,2.8,191,318299],\n",
        "}\n",
        "\n",
        "df_basic_2 = pd.DataFrame(data = data)\n",
        "df_basic_2 = df_basic_2.set_index('name', drop=False)\n",
        "df_basic_2 = df_basic_2.drop(['name'], axis=1)\n",
        "df_basic_2.to_csv(save_path3, sep=\",\")\n",
        "df_basic_2"
      ],
      "execution_count": 7,
      "outputs": [
        {
          "output_type": "execute_result",
          "data": {
            "text/html": [
              "<div>\n",
              "<style scoped>\n",
              "    .dataframe tbody tr th:only-of-type {\n",
              "        vertical-align: middle;\n",
              "    }\n",
              "\n",
              "    .dataframe tbody tr th {\n",
              "        vertical-align: top;\n",
              "    }\n",
              "\n",
              "    .dataframe thead th {\n",
              "        text-align: right;\n",
              "    }\n",
              "</style>\n",
              "<table border=\"1\" class=\"dataframe\">\n",
              "  <thead>\n",
              "    <tr style=\"text-align: right;\">\n",
              "      <th></th>\n",
              "      <th>REAL</th>\n",
              "    </tr>\n",
              "    <tr>\n",
              "      <th>name</th>\n",
              "      <th></th>\n",
              "    </tr>\n",
              "  </thead>\n",
              "  <tbody>\n",
              "    <tr>\n",
              "      <th>GDP</th>\n",
              "      <td>535.7</td>\n",
              "    </tr>\n",
              "    <tr>\n",
              "      <th>unemployment_rate</th>\n",
              "      <td>2.8</td>\n",
              "    </tr>\n",
              "    <tr>\n",
              "      <th>completely_unemployed</th>\n",
              "      <td>191.0</td>\n",
              "    </tr>\n",
              "    <tr>\n",
              "      <th>wage</th>\n",
              "      <td>318299.0</td>\n",
              "    </tr>\n",
              "  </tbody>\n",
              "</table>\n",
              "</div>"
            ],
            "text/plain": [
              "                           REAL\n",
              "name                           \n",
              "GDP                       535.7\n",
              "unemployment_rate           2.8\n",
              "completely_unemployed     191.0\n",
              "wage                   318299.0"
            ]
          },
          "metadata": {
            "tags": []
          },
          "execution_count": 7
        }
      ]
    }
  ]
}