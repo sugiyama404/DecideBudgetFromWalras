{
  "nbformat": 4,
  "nbformat_minor": 0,
  "metadata": {
    "colab": {
      "name": "Estimated_Money_multiplier.ipynb",
      "provenance": [],
      "collapsed_sections": [],
      "authorship_tag": "ABX9TyPS8WCZjdSRGf+rKnPUuHE6",
      "include_colab_link": true
    },
    "kernelspec": {
      "name": "python3",
      "display_name": "Python 3"
    },
    "language_info": {
      "name": "python"
    }
  },
  "cells": [
    {
      "cell_type": "markdown",
      "metadata": {
        "id": "view-in-github",
        "colab_type": "text"
      },
      "source": [
        "<a href=\"https://colab.research.google.com/github/sugiyama404/DecideBudgetFromWalras/blob/main/Estimated_Money_multiplier/Estimated_Money_multiplier.ipynb\" target=\"_parent\"><img src=\"https://colab.research.google.com/assets/colab-badge.svg\" alt=\"Open In Colab\"/></a>"
      ]
    },
    {
      "cell_type": "code",
      "metadata": {
        "id": "6SRBxES-Yl-8"
      },
      "source": [
        "import numpy as np\n",
        "import pandas as pd\n",
        "import matplotlib.pyplot as plt\n",
        "from google.colab import drive\n",
        "import time\n",
        "import matplotlib.pyplot as plt\n",
        "from sklearn.linear_model import LinearRegression"
      ],
      "execution_count": 1,
      "outputs": []
    },
    {
      "cell_type": "code",
      "metadata": {
        "colab": {
          "base_uri": "https://localhost:8080/"
        },
        "id": "zAnpj3p9ZX5Q",
        "outputId": "d0f25ffd-e61b-4b92-8a69-ed5d104594d5"
      },
      "source": [
        "drive.mount('/content/drive/')\n",
        "nov_dir = 'Colab Notebooks/dataset/walras_equation/'\n",
        "exp_dir = 'Colab Notebooks/workspace/export/'\n",
        "mbase_path = '/content/drive/My Drive/' + nov_dir + 'mblong.xlsx'\n",
        "mstock_path = '/content/drive/My Drive/' + nov_dir + 'money_stock.csv'\n",
        "save_path = '/content/drive/My Drive/' + exp_dir + 'Estimated_Money_multiplier.png'\n",
        "excel_sheet_name='平残（Average amounts outstanding）'"
      ],
      "execution_count": 2,
      "outputs": [
        {
          "output_type": "stream",
          "text": [
            "Drive already mounted at /content/drive/; to attempt to forcibly remount, call drive.mount(\"/content/drive/\", force_remount=True).\n"
          ],
          "name": "stdout"
        }
      ]
    },
    {
      "cell_type": "markdown",
      "metadata": {
        "id": "ekHB1vGmZhf1"
      },
      "source": [
        "# マネタリーベース"
      ]
    },
    {
      "cell_type": "code",
      "metadata": {
        "colab": {
          "base_uri": "https://localhost:8080/",
          "height": 235
        },
        "id": "71Xnt54TZddn",
        "outputId": "79b11bff-4a13-42ce-c1bc-2e91bb377971"
      },
      "source": [
        "df = pd.read_excel(mbase_path, sheet_name=excel_sheet_name)\n",
        "df = df.drop(range(6))\n",
        "df = pd.concat([df['Unnamed: 1'], df['Unnamed: 7']], axis=1)\n",
        "df = df.rename(columns={'Unnamed: 1': 'DATE', 'Unnamed: 7': 'MONETTALYBASE'})\n",
        "df['DATE'] = pd.to_datetime(df['DATE'], format='%Y%m%d')\n",
        "df = df.reset_index(drop=True)\n",
        "drop_index = df.index[(df.index >= 612)]\n",
        "df = df.drop(drop_index)\n",
        "drop_index = df.index[(df.index <= 551)]\n",
        "df = df.drop(drop_index)\n",
        "df = df.set_index('DATE')\n",
        "df.index = df.index.strftime('%Y/%m')\n",
        "df.tail()"
      ],
      "execution_count": 3,
      "outputs": [
        {
          "output_type": "execute_result",
          "data": {
            "text/html": [
              "<div>\n",
              "<style scoped>\n",
              "    .dataframe tbody tr th:only-of-type {\n",
              "        vertical-align: middle;\n",
              "    }\n",
              "\n",
              "    .dataframe tbody tr th {\n",
              "        vertical-align: top;\n",
              "    }\n",
              "\n",
              "    .dataframe thead th {\n",
              "        text-align: right;\n",
              "    }\n",
              "</style>\n",
              "<table border=\"1\" class=\"dataframe\">\n",
              "  <thead>\n",
              "    <tr style=\"text-align: right;\">\n",
              "      <th></th>\n",
              "      <th>MONETTALYBASE</th>\n",
              "    </tr>\n",
              "    <tr>\n",
              "      <th>DATE</th>\n",
              "      <th></th>\n",
              "    </tr>\n",
              "  </thead>\n",
              "  <tbody>\n",
              "    <tr>\n",
              "      <th>2020/08</th>\n",
              "      <td>5686470</td>\n",
              "    </tr>\n",
              "    <tr>\n",
              "      <th>2020/09</th>\n",
              "      <td>5818226</td>\n",
              "    </tr>\n",
              "    <tr>\n",
              "      <th>2020/10</th>\n",
              "      <td>5939036</td>\n",
              "    </tr>\n",
              "    <tr>\n",
              "      <th>2020/11</th>\n",
              "      <td>6000438</td>\n",
              "    </tr>\n",
              "    <tr>\n",
              "      <th>2020/12</th>\n",
              "      <td>6100952</td>\n",
              "    </tr>\n",
              "  </tbody>\n",
              "</table>\n",
              "</div>"
            ],
            "text/plain": [
              "        MONETTALYBASE\n",
              "DATE                 \n",
              "2020/08       5686470\n",
              "2020/09       5818226\n",
              "2020/10       5939036\n",
              "2020/11       6000438\n",
              "2020/12       6100952"
            ]
          },
          "metadata": {
            "tags": []
          },
          "execution_count": 3
        }
      ]
    },
    {
      "cell_type": "markdown",
      "metadata": {
        "id": "XLYBKxIniJU3"
      },
      "source": [
        "# マネーストック"
      ]
    },
    {
      "cell_type": "code",
      "metadata": {
        "colab": {
          "base_uri": "https://localhost:8080/",
          "height": 235
        },
        "id": "kOx1kkDgZmL7",
        "outputId": "1fae6985-2fb4-4959-fc38-722344d3d8f8"
      },
      "source": [
        "df2 = pd.read_csv(mstock_path,encoding='cp932')\n",
        "df2 = df2[df2.index != 0]\n",
        "df2 = df2.rename(columns={'データコード': 'DATE','MD02\\'MAM1NAM2M2MO': 'MONEYSTOCK'})\n",
        "df2 = df2.drop(['MD02\\'MAM1NAM3CCMO','MD02\\'MAM1NAM3DMMO'], axis=1)\n",
        "df2 = df2.reset_index(drop=True)\n",
        "drop_index = df2.index[(df2.index >= 60)]\n",
        "df2 = df2.drop(drop_index)\n",
        "df2 = df2.set_index('DATE')\n",
        "df2.tail()"
      ],
      "execution_count": 4,
      "outputs": [
        {
          "output_type": "execute_result",
          "data": {
            "text/html": [
              "<div>\n",
              "<style scoped>\n",
              "    .dataframe tbody tr th:only-of-type {\n",
              "        vertical-align: middle;\n",
              "    }\n",
              "\n",
              "    .dataframe tbody tr th {\n",
              "        vertical-align: top;\n",
              "    }\n",
              "\n",
              "    .dataframe thead th {\n",
              "        text-align: right;\n",
              "    }\n",
              "</style>\n",
              "<table border=\"1\" class=\"dataframe\">\n",
              "  <thead>\n",
              "    <tr style=\"text-align: right;\">\n",
              "      <th></th>\n",
              "      <th>MONEYSTOCK</th>\n",
              "    </tr>\n",
              "    <tr>\n",
              "      <th>DATE</th>\n",
              "      <th></th>\n",
              "    </tr>\n",
              "  </thead>\n",
              "  <tbody>\n",
              "    <tr>\n",
              "      <th>2020/08</th>\n",
              "      <td>11178523</td>\n",
              "    </tr>\n",
              "    <tr>\n",
              "      <th>2020/09</th>\n",
              "      <td>11229627</td>\n",
              "    </tr>\n",
              "    <tr>\n",
              "      <th>2020/10</th>\n",
              "      <td>11242372</td>\n",
              "    </tr>\n",
              "    <tr>\n",
              "      <th>2020/11</th>\n",
              "      <td>11315657</td>\n",
              "    </tr>\n",
              "    <tr>\n",
              "      <th>2020/12</th>\n",
              "      <td>11369091</td>\n",
              "    </tr>\n",
              "  </tbody>\n",
              "</table>\n",
              "</div>"
            ],
            "text/plain": [
              "        MONEYSTOCK\n",
              "DATE              \n",
              "2020/08   11178523\n",
              "2020/09   11229627\n",
              "2020/10   11242372\n",
              "2020/11   11315657\n",
              "2020/12   11369091"
            ]
          },
          "metadata": {
            "tags": []
          },
          "execution_count": 4
        }
      ]
    },
    {
      "cell_type": "markdown",
      "metadata": {
        "id": "mlV-3zZRi0iy"
      },
      "source": [
        "# 信用乗数"
      ]
    },
    {
      "cell_type": "code",
      "metadata": {
        "colab": {
          "base_uri": "https://localhost:8080/",
          "height": 235
        },
        "id": "I0LJKAuji4GM",
        "outputId": "77c910bc-87c1-419f-c59c-c9573f46cfd5"
      },
      "source": [
        "df3 = pd.concat([df['MONETTALYBASE'], df2['MONEYSTOCK']], axis=1)\n",
        "df3['MONEYSTOCK'] = df3['MONEYSTOCK'].astype(int)\n",
        "df3['MoneyMultiplier'] = df3['MONEYSTOCK']/df3['MONETTALYBASE']\n",
        "df3 = df3.drop(['MONEYSTOCK','MONETTALYBASE'], axis=1)\n",
        "serial_num = pd.RangeIndex(start=1, stop=len(df.index) + 1, step=1)\n",
        "df3['No'] = serial_num\n",
        "df3.tail()"
      ],
      "execution_count": 5,
      "outputs": [
        {
          "output_type": "execute_result",
          "data": {
            "text/html": [
              "<div>\n",
              "<style scoped>\n",
              "    .dataframe tbody tr th:only-of-type {\n",
              "        vertical-align: middle;\n",
              "    }\n",
              "\n",
              "    .dataframe tbody tr th {\n",
              "        vertical-align: top;\n",
              "    }\n",
              "\n",
              "    .dataframe thead th {\n",
              "        text-align: right;\n",
              "    }\n",
              "</style>\n",
              "<table border=\"1\" class=\"dataframe\">\n",
              "  <thead>\n",
              "    <tr style=\"text-align: right;\">\n",
              "      <th></th>\n",
              "      <th>MoneyMultiplier</th>\n",
              "      <th>No</th>\n",
              "    </tr>\n",
              "    <tr>\n",
              "      <th>DATE</th>\n",
              "      <th></th>\n",
              "      <th></th>\n",
              "    </tr>\n",
              "  </thead>\n",
              "  <tbody>\n",
              "    <tr>\n",
              "      <th>2020/08</th>\n",
              "      <td>1.96581</td>\n",
              "      <td>56</td>\n",
              "    </tr>\n",
              "    <tr>\n",
              "      <th>2020/09</th>\n",
              "      <td>1.93008</td>\n",
              "      <td>57</td>\n",
              "    </tr>\n",
              "    <tr>\n",
              "      <th>2020/10</th>\n",
              "      <td>1.89296</td>\n",
              "      <td>58</td>\n",
              "    </tr>\n",
              "    <tr>\n",
              "      <th>2020/11</th>\n",
              "      <td>1.88581</td>\n",
              "      <td>59</td>\n",
              "    </tr>\n",
              "    <tr>\n",
              "      <th>2020/12</th>\n",
              "      <td>1.86349</td>\n",
              "      <td>60</td>\n",
              "    </tr>\n",
              "  </tbody>\n",
              "</table>\n",
              "</div>"
            ],
            "text/plain": [
              "        MoneyMultiplier  No\n",
              "DATE                       \n",
              "2020/08         1.96581  56\n",
              "2020/09         1.93008  57\n",
              "2020/10         1.89296  58\n",
              "2020/11         1.88581  59\n",
              "2020/12         1.86349  60"
            ]
          },
          "metadata": {
            "tags": []
          },
          "execution_count": 5
        }
      ]
    },
    {
      "cell_type": "code",
      "metadata": {
        "colab": {
          "base_uri": "https://localhost:8080/",
          "height": 295
        },
        "id": "ZXRuXtJimL87",
        "outputId": "5a6d2637-5ffc-4ffd-cced-6e6c07ffed0c"
      },
      "source": [
        "plt.plot(df3.index,df3['MoneyMultiplier'], label=\"Plot of Days vs MoneyMultiplier\")\n",
        "\n",
        "plt.title('Plot of Days vs MoneyMultiplier')\n",
        "plt.ylabel('MoneyMultiplier [-]')\n",
        "plt.xlabel('Days [Days]')\n",
        "plt.xticks(['2016/01','2017/01', '2018/01','2019/01', '2020/01'])\n",
        "plt.legend()\n",
        "plt.show()"
      ],
      "execution_count": 6,
      "outputs": [
        {
          "output_type": "display_data",
          "data": {
            "image/png": "[encoded data removed]",
            "text/plain": [
              "<Figure size 432x288 with 1 Axes>"
            ]
          },
          "metadata": {
            "tags": [],
            "needs_background": "light"
          }
        }
      ]
    },
    {
      "cell_type": "code",
      "metadata": {
        "colab": {
          "base_uri": "https://localhost:8080/"
        },
        "id": "PCPhY-_-mmXJ",
        "outputId": "cd32b17b-27ef-47b2-d618-0ed17dc0ca7c"
      },
      "source": [
        "model = LinearRegression()\n",
        "\n",
        "X = df3[['No']].values\n",
        "Y = df3['MoneyMultiplier'].values\n",
        "\n",
        "model.fit(X, Y)\n",
        "a=model.coef_[0]\n",
        "b=model.intercept_\n",
        "r2=model.score(X,Y)\n",
        "print('coefficient = ', model.coef_[0])\n",
        "print('intercept = ', model.intercept_)"
      ],
      "execution_count": 7,
      "outputs": [
        {
          "output_type": "stream",
          "text": [
            "coefficient =  -0.008187783320053916\n",
            "intercept =  2.3618821612964167\n"
          ],
          "name": "stdout"
        }
      ]
    },
    {
      "cell_type": "code",
      "metadata": {
        "colab": {
          "base_uri": "https://localhost:8080/",
          "height": 295
        },
        "id": "7FhZ94SupJK6",
        "outputId": "5439d3a8-96e6-46d9-8510-c9515bcf6054"
      },
      "source": [
        "fig = plt.figure()\n",
        "\n",
        "plt.plot(df3.index,df3['MoneyMultiplier'], color = 'blue', label=\"Plot of Days vs MoneyMultiplier\")\n",
        "plt.plot(X, model.predict(X), color = 'red', label=\"Estimated Money multiplier\")\n",
        "\n",
        "plt.title('Estimated Money multiplier')\n",
        "plt.ylabel('MoneyMultiplier [-]')\n",
        "plt.xlabel('Days [Days]')\n",
        "plt.xticks(['2016/01','2017/01', '2018/01','2019/01', '2020/01'])\n",
        "\n",
        "plt.text(24, 2.3, 'MoneyMultiplier = MONEYSTOCK / \\n                                MONETTALYBASE')\n",
        "plt.text(24, 2.25, 'y = %s x + %s (x: Days=>times)' % (round(a,3),round(b,3)))\n",
        "plt.text(24, 2.2, 'R^2 = %s' % round(r2,3))\n",
        "plt.legend()\n",
        "fig.savefig(save_path)\n",
        "plt.show()"
      ],
      "execution_count": 8,
      "outputs": [
        {
          "output_type": "display_data",
          "data": {
            "image/png": "[encoded data removed]",
            "text/plain": [
              "<Figure size 432x288 with 1 Axes>"
            ]
          },
          "metadata": {
            "tags": [],
            "needs_background": "light"
          }
        }
      ]
    }
  ]
}