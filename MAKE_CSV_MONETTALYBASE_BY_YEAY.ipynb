{
  "nbformat": 4,
  "nbformat_minor": 0,
  "metadata": {
    "colab": {
      "name": "MAKE_CSV_MONETTALYBASE_BY_YEAY.ipynb",
      "provenance": [],
      "collapsed_sections": [],
      "authorship_tag": "ABX9TyNdWllhhNiIPVXWcnE9qBgO",
      "include_colab_link": true
    },
    "kernelspec": {
      "name": "python3",
      "display_name": "Python 3"
    },
    "language_info": {
      "name": "python"
    }
  },
  "cells": [
    {
      "cell_type": "markdown",
      "metadata": {
        "id": "view-in-github",
        "colab_type": "text"
      },
      "source": [
        "<a href=\"https://colab.research.google.com/github/sugiyama404/DecideBudgetFromWalras/blob/main/MAKE_CSV_MONETTALYBASE_BY_YEAY.ipynb\" target=\"_parent\"><img src=\"https://colab.research.google.com/assets/colab-badge.svg\" alt=\"Open In Colab\"/></a>"
      ]
    },
    {
      "cell_type": "code",
      "metadata": {
        "id": "rPvfKgkNym00"
      },
      "source": [
        "import numpy as np\n",
        "import pandas as pd\n",
        "import matplotlib.pyplot as plt\n",
        "from google.colab import drive\n",
        "import time"
      ],
      "execution_count": 1,
      "outputs": []
    },
    {
      "cell_type": "code",
      "metadata": {
        "colab": {
          "base_uri": "https://localhost:8080/"
        },
        "id": "07C1NpU0yGeM",
        "outputId": "d211c168-5908-4ee9-886d-20ae268be089"
      },
      "source": [
        "drive.mount('/content/drive/')\n",
        "nov_dir = 'Colab Notebooks/dataset/walras_equation/'\n",
        "mbase_path = '/content/drive/My Drive/' + nov_dir + 'mblong.xlsx'\n",
        "save_path = '/content/drive/My Drive/' + nov_dir + 'MONETTALYBASE_BY_YEAR.csv'\n",
        "save_path2 = '/content/drive/My Drive/' + nov_dir + 'BASIC_DATE.csv'\n",
        "save_path3 = '/content/drive/My Drive/' + nov_dir + 'REAL_OR_NOMINAL.csv'\n",
        "excel_sheet_name='平残（Average amounts outstanding）'"
      ],
      "execution_count": 2,
      "outputs": [
        {
          "output_type": "stream",
          "text": [
            "Drive already mounted at /content/drive/; to attempt to forcibly remount, call drive.mount(\"/content/drive/\", force_remount=True).\n"
          ],
          "name": "stdout"
        }
      ]
    },
    {
      "cell_type": "markdown",
      "metadata": {
        "id": "nZP78X6C71ea"
      },
      "source": [
        "# EXCELデータの読み込み加工"
      ]
    },
    {
      "cell_type": "code",
      "metadata": {
        "colab": {
          "base_uri": "https://localhost:8080/",
          "height": 235
        },
        "id": "mgAmyIFo0P3L",
        "outputId": "330a37bf-995c-4fc7-ceb3-44d5bdb2a665"
      },
      "source": [
        "df = pd.read_excel(mbase_path, sheet_name=excel_sheet_name)\n",
        "df = df.drop(range(6))\n",
        "df = pd.concat([df['Unnamed: 1'], df['Unnamed: 7']], axis=1)\n",
        "df = df.rename(columns={'Unnamed: 1': 'DATE', 'Unnamed: 7': 'MONETTALYBASE'})\n",
        "df['DATE'] = pd.to_datetime(df['DATE'], format='%Y%m%d')\n",
        "df = df.reset_index(drop=True)\n",
        "drop_index = df.index[(df.index >= 612)]\n",
        "df = df.drop(drop_index)\n",
        "df = df.set_index('DATE')\n",
        "df.head()"
      ],
      "execution_count": 3,
      "outputs": [
        {
          "output_type": "execute_result",
          "data": {
            "text/html": [
              "<div>\n",
              "<style scoped>\n",
              "    .dataframe tbody tr th:only-of-type {\n",
              "        vertical-align: middle;\n",
              "    }\n",
              "\n",
              "    .dataframe tbody tr th {\n",
              "        vertical-align: top;\n",
              "    }\n",
              "\n",
              "    .dataframe thead th {\n",
              "        text-align: right;\n",
              "    }\n",
              "</style>\n",
              "<table border=\"1\" class=\"dataframe\">\n",
              "  <thead>\n",
              "    <tr style=\"text-align: right;\">\n",
              "      <th></th>\n",
              "      <th>MONETTALYBASE</th>\n",
              "    </tr>\n",
              "    <tr>\n",
              "      <th>DATE</th>\n",
              "      <th></th>\n",
              "    </tr>\n",
              "  </thead>\n",
              "  <tbody>\n",
              "    <tr>\n",
              "      <th>1970-01-31</th>\n",
              "      <td>43324</td>\n",
              "    </tr>\n",
              "    <tr>\n",
              "      <th>1970-02-28</th>\n",
              "      <td>43902</td>\n",
              "    </tr>\n",
              "    <tr>\n",
              "      <th>1970-03-31</th>\n",
              "      <td>44694</td>\n",
              "    </tr>\n",
              "    <tr>\n",
              "      <th>1970-04-30</th>\n",
              "      <td>45126</td>\n",
              "    </tr>\n",
              "    <tr>\n",
              "      <th>1970-05-31</th>\n",
              "      <td>45574</td>\n",
              "    </tr>\n",
              "  </tbody>\n",
              "</table>\n",
              "</div>"
            ],
            "text/plain": [
              "           MONETTALYBASE\n",
              "DATE                    \n",
              "1970-01-31         43324\n",
              "1970-02-28         43902\n",
              "1970-03-31         44694\n",
              "1970-04-30         45126\n",
              "1970-05-31         45574"
            ]
          },
          "metadata": {
            "tags": []
          },
          "execution_count": 3
        }
      ]
    },
    {
      "cell_type": "markdown",
      "metadata": {
        "id": "OoCr3S9yHvRt"
      },
      "source": [
        "# 年の増加率を算出"
      ]
    },
    {
      "cell_type": "code",
      "metadata": {
        "id": "-Y3MF7Gu7zKz"
      },
      "source": [
        "df2 = df[(df.index.month == 1)]\n",
        "df2.index = df2.index.year\n",
        "df2 = df2.rename(columns={'MONETTALYBASE':'JAN'})\n",
        "\n",
        "df3 = df[(df.index.month == 12)]\n",
        "df3.index = df3.index.year\n",
        "df3 = df3.rename(columns={'MONETTALYBASE':'DEC'})\n",
        "\n",
        "dfy = pd.concat([df2['JAN'], df3['DEC']], axis=1)\n",
        "dfy['MONETTALYBASE'] = dfy['DEC'] - dfy['JAN']\n",
        "dfy = dfy.drop(['DEC', 'JAN'], axis=1)\n",
        "dfy.tail()\n",
        "dfy.to_csv(save_path, sep=\",\")"
      ],
      "execution_count": 4,
      "outputs": []
    },
    {
      "cell_type": "markdown",
      "metadata": {
        "id": "GQsPvJGZLCnf"
      },
      "source": [
        "# その他のデータセット作成"
      ]
    },
    {
      "cell_type": "code",
      "metadata": {
        "colab": {
          "base_uri": "https://localhost:8080/",
          "height": 173
        },
        "id": "BlhvLF-6V1eh",
        "outputId": "b1d7afaa-9a90-48c4-9a0c-fd232073a536"
      },
      "source": [
        "data = {\n",
        "  'name': ['inflation_rate','multiplier_public_investment','multiplier_tax_reduction'],\n",
        "  'value': [-0.02,1.14,0.3],\n",
        "}\n",
        "\n",
        "df_basic = pd.DataFrame(data = data)\n",
        "df_basic = df_basic.set_index('name', drop=False)\n",
        "df_basic = df_basic.drop(['name'], axis=1)\n",
        "df_basic.to_csv(save_path2, sep=\",\")\n",
        "df_basic"
      ],
      "execution_count": 5,
      "outputs": [
        {
          "output_type": "execute_result",
          "data": {
            "text/html": [
              "<div>\n",
              "<style scoped>\n",
              "    .dataframe tbody tr th:only-of-type {\n",
              "        vertical-align: middle;\n",
              "    }\n",
              "\n",
              "    .dataframe tbody tr th {\n",
              "        vertical-align: top;\n",
              "    }\n",
              "\n",
              "    .dataframe thead th {\n",
              "        text-align: right;\n",
              "    }\n",
              "</style>\n",
              "<table border=\"1\" class=\"dataframe\">\n",
              "  <thead>\n",
              "    <tr style=\"text-align: right;\">\n",
              "      <th></th>\n",
              "      <th>value</th>\n",
              "    </tr>\n",
              "    <tr>\n",
              "      <th>name</th>\n",
              "      <th></th>\n",
              "    </tr>\n",
              "  </thead>\n",
              "  <tbody>\n",
              "    <tr>\n",
              "      <th>inflation_rate</th>\n",
              "      <td>-0.02</td>\n",
              "    </tr>\n",
              "    <tr>\n",
              "      <th>multiplier_public_investment</th>\n",
              "      <td>1.14</td>\n",
              "    </tr>\n",
              "    <tr>\n",
              "      <th>multiplier_tax_reduction</th>\n",
              "      <td>0.30</td>\n",
              "    </tr>\n",
              "  </tbody>\n",
              "</table>\n",
              "</div>"
            ],
            "text/plain": [
              "                              value\n",
              "name                               \n",
              "inflation_rate                -0.02\n",
              "multiplier_public_investment   1.14\n",
              "multiplier_tax_reduction       0.30"
            ]
          },
          "metadata": {
            "tags": []
          },
          "execution_count": 5
        }
      ]
    },
    {
      "cell_type": "code",
      "metadata": {
        "colab": {
          "base_uri": "https://localhost:8080/",
          "height": 204
        },
        "id": "LmUo-Ef-LBup",
        "outputId": "a46855b0-6651-4730-82de-b809dbef6c25"
      },
      "source": [
        "df2 = dfy[(dfy.index == 2020)].values\n",
        "mb = df2[0][0]\n",
        "mb\n",
        "\n",
        "data = {\n",
        "  'name': ['GDP','unemployment_rate','completely_unemployed','wage'],\n",
        "  'REAL': [535.7,2.8,191,318299],\n",
        "}\n",
        "\n",
        "df_basic_2 = pd.DataFrame(data = data)\n",
        "df_basic_2 = df_basic_2.set_index('name', drop=False)\n",
        "df_basic_2 = df_basic_2.drop(['name'], axis=1)\n",
        "df_basic_2.to_csv(save_path3, sep=\",\")\n",
        "df_basic_2"
      ],
      "execution_count": 7,
      "outputs": [
        {
          "output_type": "execute_result",
          "data": {
            "text/html": [
              "<div>\n",
              "<style scoped>\n",
              "    .dataframe tbody tr th:only-of-type {\n",
              "        vertical-align: middle;\n",
              "    }\n",
              "\n",
              "    .dataframe tbody tr th {\n",
              "        vertical-align: top;\n",
              "    }\n",
              "\n",
              "    .dataframe thead th {\n",
              "        text-align: right;\n",
              "    }\n",
              "</style>\n",
              "<table border=\"1\" class=\"dataframe\">\n",
              "  <thead>\n",
              "    <tr style=\"text-align: right;\">\n",
              "      <th></th>\n",
              "      <th>REAL</th>\n",
              "    </tr>\n",
              "    <tr>\n",
              "      <th>name</th>\n",
              "      <th></th>\n",
              "    </tr>\n",
              "  </thead>\n",
              "  <tbody>\n",
              "    <tr>\n",
              "      <th>GDP</th>\n",
              "      <td>535.7</td>\n",
              "    </tr>\n",
              "    <tr>\n",
              "      <th>unemployment_rate</th>\n",
              "      <td>2.8</td>\n",
              "    </tr>\n",
              "    <tr>\n",
              "      <th>completely_unemployed</th>\n",
              "      <td>191.0</td>\n",
              "    </tr>\n",
              "    <tr>\n",
              "      <th>wage</th>\n",
              "      <td>318299.0</td>\n",
              "    </tr>\n",
              "  </tbody>\n",
              "</table>\n",
              "</div>"
            ],
            "text/plain": [
              "                           REAL\n",
              "name                           \n",
              "GDP                       535.7\n",
              "unemployment_rate           2.8\n",
              "completely_unemployed     191.0\n",
              "wage                   318299.0"
            ]
          },
          "metadata": {
            "tags": []
          },
          "execution_count": 7
        }
      ]
    }
  ]
}